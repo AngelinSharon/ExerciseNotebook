{
 "cells": [
  {
   "cell_type": "markdown",
   "id": "8b9443ee-6abd-4b23-bc02-2ed612147a89",
   "metadata": {},
   "source": [
    "#Data Science Tools and Ecosystem"
   ]
  },
  {
   "cell_type": "markdown",
   "id": "f19e2edd-ed91-4f22-ad3b-4b1bf01ae8ce",
   "metadata": {},
   "source": [
    "In this notebook, Data Science Tools and Ecosystem are summarized."
   ]
  },
  {
   "cell_type": "markdown",
   "id": "3da65783-d588-4c5b-aab2-c6c46c48e16f",
   "metadata": {},
   "source": [
    "Some of the popular languages that Data Scientists use are:"
   ]
  },
  {
   "cell_type": "markdown",
   "id": "85c14c34-fbca-4127-a95e-2dc6fdf45437",
   "metadata": {},
   "source": [
    "Some of the popular languages that Data Scientists use are:\n",
    "1. Python\n",
    "2. Java\n",
    "3. SQL\n",
    "4. R"
   ]
  },
  {
   "cell_type": "markdown",
   "id": "63164ae6-8678-469b-8df9-ae990e7d4a6b",
   "metadata": {},
   "source": [
    "Some of the commonly used libraries used by Data Scientists include:\n",
    "1. ggplot\n",
    "2. leaflet\n",
    "3. plotly\n",
    "4. caret\n"
   ]
  },
  {
   "cell_type": "markdown",
   "id": "6ac0b758-e734-4796-9eb8-2499d3b37242",
   "metadata": {},
   "source": [
    "Data Science Tools\n",
    "1. MySQL\n",
    "2. MongoDB\n",
    "3. Apache Couch DB\n",
    "Apache Cassandra"
   ]
  },
  {
   "cell_type": "markdown",
   "id": "08be2370-195e-4ebe-ac20-843259122e1e",
   "metadata": {},
   "source": [
    "###Below are a few examples of evaluating arithmetic expressions in Python\n"
   ]
  },
  {
   "cell_type": "code",
   "execution_count": 1,
   "id": "57c8424c-75a2-4814-9a14-f20d62f4abfb",
   "metadata": {
    "tags": []
   },
   "outputs": [
    {
     "data": {
      "text/plain": [
       "17"
      ]
     },
     "execution_count": 1,
     "metadata": {},
     "output_type": "execute_result"
    }
   ],
   "source": [
    "(3*4)+5\n",
    "#This a simple arithmetic expression to mutiply then add integers"
   ]
  },
  {
   "cell_type": "code",
   "execution_count": 3,
   "id": "d1ffcc8d-71fc-454d-8825-d469d7557681",
   "metadata": {
    "tags": []
   },
   "outputs": [
    {
     "name": "stdin",
     "output_type": "stream",
     "text": [
      "Enter time in minutes 200\n"
     ]
    },
    {
     "name": "stdout",
     "output_type": "stream",
     "text": [
      "Hours= 3\n",
      "Minutes= 20\n"
     ]
    }
   ],
   "source": [
    "min=int(input(\"Enter time in minutes\"))\n",
    "h=min//60\n",
    "m=min%60\n",
    "print(\"Hours=\",h)\n",
    "print(\"Minutes=\",m)\n",
    "#This will convert 200 minutes to hours by diving by 60"
   ]
  },
  {
   "cell_type": "markdown",
   "id": "41e350d2-6fbd-4977-9359-8a3024e0facf",
   "metadata": {},
   "source": [
    "Objectives:\n",
    "\n",
    "1. List popular languages for Data Science\n",
    "- Python\n",
    "- SQL\n",
    "- R\n",
    "2. Some popular GITHUB Commands\n",
    "- init\n",
    "- add\n",
    "- status\n",
    "- commit\n",
    "- reset\n",
    "- log"
   ]
  },
  {
   "cell_type": "markdown",
   "id": "1873f60d-2523-484b-8d92-b2acbab5989f",
   "metadata": {},
   "source": [
    "##Author\n",
    " Angelin Sharon M S"
   ]
  },
  {
   "cell_type": "code",
   "execution_count": null,
   "id": "3f8d3dca-d91a-4ec0-a274-b363a16a3b01",
   "metadata": {},
   "outputs": [],
   "source": []
  }
 ],
 "metadata": {
  "kernelspec": {
   "display_name": "Python",
   "language": "python",
   "name": "conda-env-python-py"
  },
  "language_info": {
   "codemirror_mode": {
    "name": "ipython",
    "version": 3
   },
   "file_extension": ".py",
   "mimetype": "text/x-python",
   "name": "python",
   "nbconvert_exporter": "python",
   "pygments_lexer": "ipython3",
   "version": "3.7.12"
  }
 },
 "nbformat": 4,
 "nbformat_minor": 5
}
